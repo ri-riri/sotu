{
 "cells": [
  {
   "cell_type": "code",
   "execution_count": 2,
   "metadata": {},
   "outputs": [],
   "source": [
    "import os , os.path #osを読み込む\n",
    "import sys\n",
    "import pandas as pd #xlsxのファイルをcsvにする\n",
    "import ast\n",
    "import requests\n",
    "from bs4 import BeautifulSoup\n",
    "import json\n",
    "from urllib import request\n",
    "import csv\n",
    "import collections\n",
    "import glob\n",
    "import re"
   ]
  },
  {
   "cell_type": "code",
   "execution_count": 12,
   "metadata": {
    "scrolled": true
   },
   "outputs": [],
   "source": [
    "#評価ワード読み込み\n",
    "df1 = pd.read_excel(\"new評価ワード.xlsx\", sheet_name=0)\n",
    "df1.to_csv(\"new評価ワード.csv\", index=False, header=None, encoding='utf_8_sig')\n",
    "with open(\"new評価ワード.csv\", encoding='utf_8_sig') as fp:\n",
    "    \n",
    "    #tuple型の評価ワード作成\n",
    "    all_list = [] #all_lstはtuple型の評価ワード全部\n",
    "    reader = csv.reader(fp)\n",
    "    for row in reader: #rowはキヤノンらしいのかたまり\n",
    "        word_list = [] #elementを追加していったもの\n",
    "        for element in row: #elementはキヤノンらしいなどの単語1つ1つ\n",
    "            if element != '': #空白削除\n",
    "                word_list.append(element) #word_lstに追加していく\n",
    "                word_tuple = tuple(word_list) #word_tupleはword_lstをタプル型に変換\n",
    "        #print(word_tuple[0])\n",
    "        all_list.append(word_tuple) #all_lstに追加していく\n",
    "    #print(all_lst[0])\n",
    "\n",
    "\n",
    "#all_lstをキーに0を値に取るdict型作成\n",
    "mydict = {} #mydictはall_lstをキーに0を値に取る\n",
    "for word in all_list:\n",
    "    mydict[word] = 0\n",
    "#print(mydict)\n"
   ]
  },
  {
   "cell_type": "code",
   "execution_count": 4,
   "metadata": {
    "scrolled": true
   },
   "outputs": [],
   "source": [
    "df2 = pd.read_excel(\"カメラ辞書.xlsx\", sheet_name=0)\n",
    "df2.to_csv(\"カメラ辞書.csv\", index=False, header=None, encoding='utf_8_sig')\n",
    "with open(\"カメラ辞書.csv\", encoding='utf_8_sig') as fp:\n",
    "    camera_query = df2.query('シリーズ == \"EOS\"')\n",
    "    siborikomi = camera_query[\"品名\"]\n",
    "#siborikomi_list = []\n",
    "#for item in siborikomi:\n",
    "#    siborikomi_list.append(item)\n",
    "#print(siborikomi_list)\n",
    "    #for hinmei in camera_query:\n",
    "    #print(camera_query[\"品名\"])"
   ]
  },
  {
   "cell_type": "code",
   "execution_count": 9,
   "metadata": {},
   "outputs": [
    {
     "name": "stdout",
     "output_type": "stream",
     "text": [
      "['EOS R5_body', 'EOS R6_body']\n"
     ]
    }
   ],
   "source": [
    "selected_products = []\n",
    "for selects in siborikomi:\n",
    "    selected_products.append(selects)\n",
    "#print(selected_products)"
   ]
  },
  {
   "cell_type": "code",
   "execution_count": 29,
   "metadata": {
    "scrolled": true
   },
   "outputs": [
    {
     "name": "stdout",
     "output_type": "stream",
     "text": [
      "{'EOS R5_body': {('キヤノンらしい', 'キャノンらしい', 'キャノンらしく', 'キヤノンらしさ', 'キャノンっぽい', 'キヤノンぽい', 'Canonらしい', 'Canonらしく', 'canonらしさ'): 0, ('キヤノンらしくない',): 0, ('ニコンらしい', 'ニコンらしく', 'ニコンらしさ', 'ニコンっぽい', 'ニコン機らしい', 'Ｎｉｋｏｎらしい', 'NIKONらしい', 'Nikonらしい', 'Nikonらしく'): 0, ('フジらしい', 'FUJIFILMらしさ'): 0, ('ソニーらしい', 'SONYらしい'): 0, ('パナソニックらしい',): 0, ('LUMIXらしい', 'Lumixらしい'): 0, ('手になじむ', '手になじみ', '手に馴染む', '手によく馴染み', '手に馴染んで', '馴染み'): 0, ('なじめない', 'なじめなく', '馴染めず', '馴染めなかった', '慣れません'): 0, ('直感的', '直感操作', '直感的な操作', '直感的に', '直感的な'): 0, ('複雑な操作', '直感的とは言えない'): 0, ('ひと手間', '持ち替え'): 0, ('軽量', '軽量化', '軽く', '重くない'): 0, ('重い', '重く', '重たい', '重さ', '重め'): 0, ('小さい', '小さく', '小型', '小さすぎる'): 0, ('大きい', '大きく', '大きめ', 'でかい', 'でかく', 'デカく', '大きすぎる'): 0, ('使いやすい', '使い易い', '使いやすく', '使い易さ', '使い易く', '使用しやすい', 'やりやすい', '扱いやすい', '容易に操作', '優れた操作性', '快適な操作性'): 0, ('使いづらい', '使い辛い', '使い難い', '使いにくく', 'やりづらい', 'やりにくい', 'しづらい', 'し辛い', 'しにくい', '使いこなせない', '難しい'): 0, ('握りやすい', '握りやすく', '握り易く', '握りやすさ', '握りやすかった', '持ちやすい', 'つかみやすい', 'しっかり握れ', 'しっかり持てる'): 0, ('持ちづらい', '持ちにくい', '握りにくい'): 0, ('滑りにくい',): 0, ('滑りやすい', 'すべりやすい', '滑ります', '滑ってしまう'): 0, ('落としそう',): 0, ('深いブリップ',): 0, ('ホールド感', 'ホールド性', '良いホールド感', '良好なホールド性', '心地よいホールド感', '素晴らしいホールド感', 'しっかりホールド', '十分なホールド感'): 0, ('グリップ', 'グリップ性', 'しっかりしたグリップ'): 0, ('見やすい', '見易く', 'みやすく'): 0, ('見づらい', '見辛い', '見難い', '見にくい'): 0, ('覗きやすい',): 0, ('撮影しやすい', '撮りやすい'): 0, ('運びやすい', '持ち出しやすい', '文句なしの携帯性'): 0, ('押しづらい', '押しづらく', '押しにくい', '押しにくく'): 0, ('押し間違える',): 0, ('回しづらい', '回し辛い', '回しにくい'): 0, ('安い', '安かった', '安価', '低価格', '激安', '格安', '価格も下がり', '購入しやすい価格', 'お値打ち', 'リーズナブル', '値下がり'): 0, ('高額', '高すぎ', '高すぎる'): 0, ('高級感', '安っぽくない', '安っぽくなく', 'ゴージャス'): 0, ('安っぽい', '安っぽさ', '安物っぽい', 'チープさ', '高級感が感じられません', '高級感はありません'): 0, ('違和感', '違和感を覚え'): 0, ('シンプル',): 0, ('スッキリ', 'スッキリしたデザイン'): 0, ('スタイリッシュ',): 0, ('安定', '安定感'): 0, ('フィット', 'フィットする', '手にフィット', '手にフィットする'): 0, ('疲れない', '疲れません', '手がつかれません'): 0, ('疲れる', '疲れます', '疲れました', '手が疲れる', '手首に負担', '手首が痛く', '手が疲れ'): 0, ('目の疲労',): 0, ('自分好み',): 0, ('カスタマイズ', 'カスタマイズ性能', 'カスタム'): 0, ('薄く', 'スリム'): 0, ('手軽', '手軽さ', 'お手軽'): 0, ('気軽',): 0, ('コンパクト', 'スペースを取らない', 'スッキリと収まり', 'かさばらない'): 0, ('かさばる', 'かさばり', 'かさばります', '邪魔', 'コンパクトとは言えません'): 0, ('高性能',): 0, ('新機能',): 0, ('追随性',): 0, ('AF性能',): 0, ('光学性能',): 0, ('タッチアンドドラッグ',): 0, ('慣れる', '慣れ', '慣れ易い', '直ぐに慣れます', '直ぐに慣れる', 'すぐに慣れる', 'すぐに慣れました'): 0, ('慣れの問題',): 0, ('同じ操作性', '操作感が同じ', '操作系を踏襲', '慣れ親しんだ操作性'): 0, ('戸惑い', '戸惑う', '戸惑いはあり'): 0, ('分かりやすい', '迷うことなく'): 0, ('わかりづらい', '分かりにくい', 'わかりにくい', '理解不能'): 0, ('使い慣れたUI',): 0, ('かっこいい', 'かっこよく', 'カッコいい', 'カッコよく', 'カッコよさ', 'カッコよかった', 'カッコイイ', 'カッコ良い', 'カッコ良すぎ', '格好いい', '格好良い'): 0, ('かっこ悪い', 'カッコ悪い', 'かっこよくない', 'カッコいいとは言えない'): 0, ('かわいい',): 0, ('洗練された', '洗練され', '洗練されている', '洗練されたデザイン'): 0, ('好きなデザイン',): 0, ('エッジの効いたデザイン',): 0, ('合理的なデザイン',): 0, ('無骨な', '無骨', '無骨なデザイン'): 0, ('角ばった', '角ばったデザイン'): 0, ('先進的な', '先鋭的'): 0, ('オシャレな', 'オシャレ', 'おしゃれ', 'お洒落な', 'お洒落'): 0, ('シックな', 'シック', 'シックなデザイン'): 0, ('未来的',): 0, ('グッドデザイン',): 0, ('直線的', '直線的なデザイン'): 0, ('カメラらしい', 'カメラらしいデザイン'): 0, ('無難', '無難なデザイン'): 0, ('遊び心',): 0, ('ユニークな',): 0, ('飽きない', '飽きないデザイン', '飽きのこないデザイン'): 0, ('クラシックな', 'クラシック', 'クラシカルな', 'クラシカル'): 0, ('メカニカルな', 'メカニカル', 'メカメカしく'): 0, ('メタリック',): 0, ('マグネシウムボディ',): 0, ('プラスチック', 'プラスチッキー'): 0, ('レトロな', 'レトロ'): 0, ('昭和',): 0, ('ノスタルジックな', '懐古'): 0, ('野暮ったく',): 0, ('高画質', '最高画質', '最高レベルの画質', '満足な画質', '素晴らしい画質', 'すばらしい画質', '十分な画質', '満足する画質', 'キレの良い画質'): 0, ('そこそこの画質',): 0, ('ノイズ', 'ノイズが少し目立つ'): 0, ('粗い', '粗さ'): 0, ('ボケない',): 0, ('便利',): 0, ('不便',): 0, ('好き', '好み', '好感が持てる'): 0, ('嫌い', '好みではありません'): 0, ('改善',): 0, ('ファームアップ', 'ファームアップに期待', 'ファームアップを望みます'): 0, ('要改善',): 0, ('お気に入り', '気に入ってます', '気にいった'): 0, ('オススメ', 'おすすめ', 'お勧め'): 0, ('オススメはしません', 'オススメもしません'): 0, ('満足', '大満足', '期待通り'): 0, ('予想以上', '期待以上'): 0, ('魅力的', '魅力を感じ'): 0, ('感動',): 0, ('名機',): 0, ('優秀', '秀逸なカメラ', '最高'): 0, ('快適',): 0, ('素晴らしい', '素晴らしく'): 0, ('コスパ',): 0, ('至れり尽くせり',): 0, ('不満', '後悔', '良さがわからない', '残念', 'がっかり', 'ガッカリ'): 0, ('物足りない',): 0, ('イライラ',): 0, ('酷評',): 0, ('面倒', 'めんどくさい', '煩わしい'): 0, ('安心', '安心感'): 0, ('キレイ', '綺麗', '美しさ'): 0, ('クリア', 'クリアー'): 0, ('精細な', '高精細'): 0, ('高感度', '高感度耐性'): 0, ('楽しい', '楽しく', '楽しみ', '楽しさ', '楽しめる', '楽しくなる'): 0, ('ワクワク', 'わくわく'): 0, ('楽しくない',): 0, ('マルチファンクションバー',): 0, ('長持ち',): 0, ('予備バッテリー', '予備', '予備のバッテリー'): 0, ('もう少し長持ち', 'バッテリー持ちが良いとは言えません'): 0, ('USB給電', 'ＵＳＢ給電', 'USB充電', 'USBで充電'): 0, ('充電中使えない',): 0, ('単3電池', '単三電池', '単3アルカリ', '単三バッテリー', '乾電池式'): 0, ('ワンアクション', 'ワンタッチ'): 0, ('握り直す',): 0, ('誤動作', '誤作動'): 0, ('誤操作',): 0, ('高速操作',): 0, ('爆速', '俊敏'): 0, ('タイムラグ',): 0, ('愛着がわく', '愛着の湧く', '愛着が湧いて', '愛着が出て', '愛着が持てる'): 0, ('いい色', '好みの色', '最高の発色'): 0, ('鮮やか',): 0, ('白く飛ぶ', '白く飛んで'): 0, ('明るすぎる',): 0, ('鮮やかすぎる',): 0, ('最新',): 0, ('創造性',): 0, ('上質', '高質感', '高い質感', '良い質感'): 0, ('高品質',): 0, ('重厚感',): 0, ('aps-c',): 0, ('万能', '万能なカメラ'): 0, ('角ばって無い',): 0, ('ゴツゴツ', 'ごっつい'): 0, ('窮屈',): 0, ('ジャスピン',): 0, ('バリアングル',): 0, ('チルト',): 0, ('剥がれ', 'ボディの剥がれ', 'ラバーが剥がれる', 'グリップが剥がれ', '捲れてきたりする'): 0, ('大きめの液晶',): 0, ('無音撮影', 'サイレント撮影'): 0, ('無音シャッター', '極小のシャッター音'): 0, ('心地いい音', '素晴らしいシャッター音', '上品な音'): 0, ('上品',): 0, ('レンズの拡充', 'レンズが拡張'): 0, ('レンズの拡張に期待',): 0, ('光軸線上',): 0, ('シャープ', 'シャープ感'): 0, ('素晴らしい解像度', '素晴らしい解像感'): 0, ('塗りつぶされてる',): 0, ('堅牢性', '堅牢感'): 0, ('質実剛健', '頑丈'): 0, ('防水', '防水性能', '防滴'): 0, ('防塵',): 0, ('キャッシュバック',): 0, ('キャンペーン',): 0, ('サブ機',): 0, ('XQDカード',): 0, ('軽快に', '軽快'): 0, ('統一感', '統一'): 0, ('透明感',): 0, ('コントロールダイヤル',): 0, ('ボタンでの操作',): 0, ('タッチパネル操作',): 0, ('構図が決められる',): 0, ('ブラックアウト',): 0, ('タッチシャッター',): 0, ('シャッターショック',): 0, ('フォーサーズ', 'マイクロフォーサーズ'): 0, ('かゆいところに手が届く',): 0, ('％表示',): 0, ('％表示でない',): 0, ('つるつる', 'ツルツル'): 0, ('アナログ',): 0, ('ユーザーフレンドリー',): 0}, 'EOS R6_body': {('キヤノンらしい', 'キャノンらしい', 'キャノンらしく', 'キヤノンらしさ', 'キャノンっぽい', 'キヤノンぽい', 'Canonらしい', 'Canonらしく', 'canonらしさ'): 0, ('キヤノンらしくない',): 0, ('ニコンらしい', 'ニコンらしく', 'ニコンらしさ', 'ニコンっぽい', 'ニコン機らしい', 'Ｎｉｋｏｎらしい', 'NIKONらしい', 'Nikonらしい', 'Nikonらしく'): 0, ('フジらしい', 'FUJIFILMらしさ'): 0, ('ソニーらしい', 'SONYらしい'): 0, ('パナソニックらしい',): 0, ('LUMIXらしい', 'Lumixらしい'): 0, ('手になじむ', '手になじみ', '手に馴染む', '手によく馴染み', '手に馴染んで', '馴染み'): 0, ('なじめない', 'なじめなく', '馴染めず', '馴染めなかった', '慣れません'): 0, ('直感的', '直感操作', '直感的な操作', '直感的に', '直感的な'): 0, ('複雑な操作', '直感的とは言えない'): 0, ('ひと手間', '持ち替え'): 0, ('軽量', '軽量化', '軽く', '重くない'): 0, ('重い', '重く', '重たい', '重さ', '重め'): 0, ('小さい', '小さく', '小型', '小さすぎる'): 0, ('大きい', '大きく', '大きめ', 'でかい', 'でかく', 'デカく', '大きすぎる'): 0, ('使いやすい', '使い易い', '使いやすく', '使い易さ', '使い易く', '使用しやすい', 'やりやすい', '扱いやすい', '容易に操作', '優れた操作性', '快適な操作性'): 0, ('使いづらい', '使い辛い', '使い難い', '使いにくく', 'やりづらい', 'やりにくい', 'しづらい', 'し辛い', 'しにくい', '使いこなせない', '難しい'): 0, ('握りやすい', '握りやすく', '握り易く', '握りやすさ', '握りやすかった', '持ちやすい', 'つかみやすい', 'しっかり握れ', 'しっかり持てる'): 0, ('持ちづらい', '持ちにくい', '握りにくい'): 0, ('滑りにくい',): 0, ('滑りやすい', 'すべりやすい', '滑ります', '滑ってしまう'): 0, ('落としそう',): 0, ('深いブリップ',): 0, ('ホールド感', 'ホールド性', '良いホールド感', '良好なホールド性', '心地よいホールド感', '素晴らしいホールド感', 'しっかりホールド', '十分なホールド感'): 0, ('グリップ', 'グリップ性', 'しっかりしたグリップ'): 0, ('見やすい', '見易く', 'みやすく'): 0, ('見づらい', '見辛い', '見難い', '見にくい'): 0, ('覗きやすい',): 0, ('撮影しやすい', '撮りやすい'): 0, ('運びやすい', '持ち出しやすい', '文句なしの携帯性'): 0, ('押しづらい', '押しづらく', '押しにくい', '押しにくく'): 0, ('押し間違える',): 0, ('回しづらい', '回し辛い', '回しにくい'): 0, ('安い', '安かった', '安価', '低価格', '激安', '格安', '価格も下がり', '購入しやすい価格', 'お値打ち', 'リーズナブル', '値下がり'): 0, ('高額', '高すぎ', '高すぎる'): 0, ('高級感', '安っぽくない', '安っぽくなく', 'ゴージャス'): 0, ('安っぽい', '安っぽさ', '安物っぽい', 'チープさ', '高級感が感じられません', '高級感はありません'): 0, ('違和感', '違和感を覚え'): 0, ('シンプル',): 0, ('スッキリ', 'スッキリしたデザイン'): 0, ('スタイリッシュ',): 0, ('安定', '安定感'): 0, ('フィット', 'フィットする', '手にフィット', '手にフィットする'): 0, ('疲れない', '疲れません', '手がつかれません'): 0, ('疲れる', '疲れます', '疲れました', '手が疲れる', '手首に負担', '手首が痛く', '手が疲れ'): 0, ('目の疲労',): 0, ('自分好み',): 0, ('カスタマイズ', 'カスタマイズ性能', 'カスタム'): 0, ('薄く', 'スリム'): 0, ('手軽', '手軽さ', 'お手軽'): 0, ('気軽',): 0, ('コンパクト', 'スペースを取らない', 'スッキリと収まり', 'かさばらない'): 0, ('かさばる', 'かさばり', 'かさばります', '邪魔', 'コンパクトとは言えません'): 0, ('高性能',): 0, ('新機能',): 0, ('追随性',): 0, ('AF性能',): 0, ('光学性能',): 0, ('タッチアンドドラッグ',): 0, ('慣れる', '慣れ', '慣れ易い', '直ぐに慣れます', '直ぐに慣れる', 'すぐに慣れる', 'すぐに慣れました'): 0, ('慣れの問題',): 0, ('同じ操作性', '操作感が同じ', '操作系を踏襲', '慣れ親しんだ操作性'): 0, ('戸惑い', '戸惑う', '戸惑いはあり'): 0, ('分かりやすい', '迷うことなく'): 0, ('わかりづらい', '分かりにくい', 'わかりにくい', '理解不能'): 0, ('使い慣れたUI',): 0, ('かっこいい', 'かっこよく', 'カッコいい', 'カッコよく', 'カッコよさ', 'カッコよかった', 'カッコイイ', 'カッコ良い', 'カッコ良すぎ', '格好いい', '格好良い'): 0, ('かっこ悪い', 'カッコ悪い', 'かっこよくない', 'カッコいいとは言えない'): 0, ('かわいい',): 0, ('洗練された', '洗練され', '洗練されている', '洗練されたデザイン'): 0, ('好きなデザイン',): 0, ('エッジの効いたデザイン',): 0, ('合理的なデザイン',): 0, ('無骨な', '無骨', '無骨なデザイン'): 0, ('角ばった', '角ばったデザイン'): 0, ('先進的な', '先鋭的'): 0, ('オシャレな', 'オシャレ', 'おしゃれ', 'お洒落な', 'お洒落'): 0, ('シックな', 'シック', 'シックなデザイン'): 0, ('未来的',): 0, ('グッドデザイン',): 0, ('直線的', '直線的なデザイン'): 0, ('カメラらしい', 'カメラらしいデザイン'): 0, ('無難', '無難なデザイン'): 0, ('遊び心',): 0, ('ユニークな',): 0, ('飽きない', '飽きないデザイン', '飽きのこないデザイン'): 0, ('クラシックな', 'クラシック', 'クラシカルな', 'クラシカル'): 0, ('メカニカルな', 'メカニカル', 'メカメカしく'): 0, ('メタリック',): 0, ('マグネシウムボディ',): 0, ('プラスチック', 'プラスチッキー'): 0, ('レトロな', 'レトロ'): 0, ('昭和',): 0, ('ノスタルジックな', '懐古'): 0, ('野暮ったく',): 0, ('高画質', '最高画質', '最高レベルの画質', '満足な画質', '素晴らしい画質', 'すばらしい画質', '十分な画質', '満足する画質', 'キレの良い画質'): 0, ('そこそこの画質',): 0, ('ノイズ', 'ノイズが少し目立つ'): 0, ('粗い', '粗さ'): 0, ('ボケない',): 0, ('便利',): 0, ('不便',): 0, ('好き', '好み', '好感が持てる'): 0, ('嫌い', '好みではありません'): 0, ('改善',): 0, ('ファームアップ', 'ファームアップに期待', 'ファームアップを望みます'): 0, ('要改善',): 0, ('お気に入り', '気に入ってます', '気にいった'): 0, ('オススメ', 'おすすめ', 'お勧め'): 0, ('オススメはしません', 'オススメもしません'): 0, ('満足', '大満足', '期待通り'): 0, ('予想以上', '期待以上'): 0, ('魅力的', '魅力を感じ'): 0, ('感動',): 0, ('名機',): 0, ('優秀', '秀逸なカメラ', '最高'): 0, ('快適',): 0, ('素晴らしい', '素晴らしく'): 0, ('コスパ',): 0, ('至れり尽くせり',): 0, ('不満', '後悔', '良さがわからない', '残念', 'がっかり', 'ガッカリ'): 0, ('物足りない',): 0, ('イライラ',): 0, ('酷評',): 0, ('面倒', 'めんどくさい', '煩わしい'): 0, ('安心', '安心感'): 0, ('キレイ', '綺麗', '美しさ'): 0, ('クリア', 'クリアー'): 0, ('精細な', '高精細'): 0, ('高感度', '高感度耐性'): 0, ('楽しい', '楽しく', '楽しみ', '楽しさ', '楽しめる', '楽しくなる'): 0, ('ワクワク', 'わくわく'): 0, ('楽しくない',): 0, ('マルチファンクションバー',): 0, ('長持ち',): 0, ('予備バッテリー', '予備', '予備のバッテリー'): 0, ('もう少し長持ち', 'バッテリー持ちが良いとは言えません'): 0, ('USB給電', 'ＵＳＢ給電', 'USB充電', 'USBで充電'): 0, ('充電中使えない',): 0, ('単3電池', '単三電池', '単3アルカリ', '単三バッテリー', '乾電池式'): 0, ('ワンアクション', 'ワンタッチ'): 0, ('握り直す',): 0, ('誤動作', '誤作動'): 0, ('誤操作',): 0, ('高速操作',): 0, ('爆速', '俊敏'): 0, ('タイムラグ',): 0, ('愛着がわく', '愛着の湧く', '愛着が湧いて', '愛着が出て', '愛着が持てる'): 0, ('いい色', '好みの色', '最高の発色'): 0, ('鮮やか',): 0, ('白く飛ぶ', '白く飛んで'): 0, ('明るすぎる',): 0, ('鮮やかすぎる',): 0, ('最新',): 0, ('創造性',): 0, ('上質', '高質感', '高い質感', '良い質感'): 0, ('高品質',): 0, ('重厚感',): 0, ('aps-c',): 0, ('万能', '万能なカメラ'): 0, ('角ばって無い',): 0, ('ゴツゴツ', 'ごっつい'): 0, ('窮屈',): 0, ('ジャスピン',): 0, ('バリアングル',): 0, ('チルト',): 0, ('剥がれ', 'ボディの剥がれ', 'ラバーが剥がれる', 'グリップが剥がれ', '捲れてきたりする'): 0, ('大きめの液晶',): 0, ('無音撮影', 'サイレント撮影'): 0, ('無音シャッター', '極小のシャッター音'): 0, ('心地いい音', '素晴らしいシャッター音', '上品な音'): 0, ('上品',): 0, ('レンズの拡充', 'レンズが拡張'): 0, ('レンズの拡張に期待',): 0, ('光軸線上',): 0, ('シャープ', 'シャープ感'): 0, ('素晴らしい解像度', '素晴らしい解像感'): 0, ('塗りつぶされてる',): 0, ('堅牢性', '堅牢感'): 0, ('質実剛健', '頑丈'): 0, ('防水', '防水性能', '防滴'): 0, ('防塵',): 0, ('キャッシュバック',): 0, ('キャンペーン',): 0, ('サブ機',): 0, ('XQDカード',): 0, ('軽快に', '軽快'): 0, ('統一感', '統一'): 0, ('透明感',): 0, ('コントロールダイヤル',): 0, ('ボタンでの操作',): 0, ('タッチパネル操作',): 0, ('構図が決められる',): 0, ('ブラックアウト',): 0, ('タッチシャッター',): 0, ('シャッターショック',): 0, ('フォーサーズ', 'マイクロフォーサーズ'): 0, ('かゆいところに手が届く',): 0, ('％表示',): 0, ('％表示でない',): 0, ('つるつる', 'ツルツル'): 0, ('アナログ',): 0, ('ユーザーフレンドリー',): 0}}\n"
     ]
    }
   ],
   "source": [
    "for series in selected_products:\n",
    "    files = glob.glob(\"./review/*/*/{}_*_*.txt\".format(series)) #*に入るのは何でもいい\n",
    "    for file in files:\n",
    "        f = open(file,\"r\")\n",
    "        review = f.read() \n",
    "#        print(review)\n",
    "\n",
    "        count_result = {}\n",
    "        for selected_product in selected_products: #選択製品リストから一つ一つを取り出す\n",
    "            sum_result = {} #製品ごとに結果を格納する．初期化．\n",
    "            count_result[selected_product] = sum_result\n",
    "            \n",
    "            skip_flag = False #Falseは0と同じ\n",
    "            for tuple_list in mydict: #選択製品のカウント結果のそれぞれの鍵を取り出す\n",
    "                if not tuple_list in sum_result:\n",
    "                    sum_result[tuple_list] = 0\n",
    "                sum_result[tuple_list] += count_result[selected_product][tuple_list]\n",
    "            \n",
    "\n",
    "\n",
    "                #mydictの値の部分をカウントしていく\n",
    "\n",
    "                for item in tuple_list: #itemはキヤノンらしいなどの単語1つ1つ\n",
    "                    if review.count(item) > 0: #数えた結果が0より大きかったら\n",
    "                        skip_flag = True #Trueは1と同じ\n",
    "                        continue #次のitemに行く\n",
    "\n",
    "                if skip_flag == True: #skip_flagがTrueなら処理実行\n",
    "                    skip_flag = False #Trueを踏んだらFalseに戻す\n",
    "                    mydict[tuple_list] += 1 #mydictの値のカウントを１増やす\n",
    "                    continue #次のtuple_listに行く\n",
    "                f.close()\n",
    "                \n",
    "                \n",
    "print(count_result)\n",
    "                    \n",
    "            #count_result[selected_product]で該当レビューのカウント結果を抜き出せる\n",
    "            #Pythonのdict型では，未知鍵で呼び出した場合は新規に追加される仕様"
   ]
  },
  {
   "cell_type": "code",
   "execution_count": null,
   "metadata": {},
   "outputs": [],
   "source": []
  },
  {
   "cell_type": "code",
   "execution_count": null,
   "metadata": {},
   "outputs": [],
   "source": []
  },
  {
   "cell_type": "code",
   "execution_count": null,
   "metadata": {},
   "outputs": [],
   "source": []
  },
  {
   "cell_type": "code",
   "execution_count": null,
   "metadata": {},
   "outputs": [],
   "source": []
  },
  {
   "cell_type": "code",
   "execution_count": 84,
   "metadata": {
    "scrolled": true
   },
   "outputs": [
    {
     "ename": "NameError",
     "evalue": "name 'count_result' is not defined",
     "output_type": "error",
     "traceback": [
      "\u001b[1;31m---------------------------------------------------------------------------\u001b[0m",
      "\u001b[1;31mNameError\u001b[0m                                 Traceback (most recent call last)",
      "\u001b[1;32m<ipython-input-84-c73f8e5d68a4>\u001b[0m in \u001b[0;36m<module>\u001b[1;34m\u001b[0m\n\u001b[0;32m      4\u001b[0m         \u001b[1;32mif\u001b[0m \u001b[1;32mnot\u001b[0m \u001b[0mall_list\u001b[0m \u001b[1;32min\u001b[0m \u001b[0msum_result\u001b[0m\u001b[1;33m:\u001b[0m\u001b[1;33m\u001b[0m\u001b[1;33m\u001b[0m\u001b[0m\n\u001b[0;32m      5\u001b[0m             \u001b[0msum_result\u001b[0m\u001b[1;33m[\u001b[0m\u001b[0mall_list\u001b[0m\u001b[1;33m]\u001b[0m \u001b[1;33m=\u001b[0m \u001b[1;36m0\u001b[0m\u001b[1;33m\u001b[0m\u001b[1;33m\u001b[0m\u001b[0m\n\u001b[1;32m----> 6\u001b[1;33m             \u001b[0msum_result\u001b[0m\u001b[1;33m[\u001b[0m\u001b[0mall_list\u001b[0m\u001b[1;33m]\u001b[0m \u001b[1;33m+=\u001b[0m \u001b[0mcount_result\u001b[0m\u001b[1;33m[\u001b[0m\u001b[0mselected_product\u001b[0m\u001b[1;33m]\u001b[0m\u001b[1;33m[\u001b[0m\u001b[0mall_list\u001b[0m\u001b[1;33m]\u001b[0m\u001b[1;33m\u001b[0m\u001b[1;33m\u001b[0m\u001b[0m\n\u001b[0m\u001b[0;32m      7\u001b[0m         \u001b[1;31m#count_result[selected_product]で該当レビューのカウント結果を抜き出せる\u001b[0m\u001b[1;33m\u001b[0m\u001b[1;33m\u001b[0m\u001b[1;33m\u001b[0m\u001b[0m\n\u001b[0;32m      8\u001b[0m         \u001b[1;31m#Pythonのdict型では，未知鍵で呼び出した場合は新規に追加される仕様\u001b[0m\u001b[1;33m\u001b[0m\u001b[1;33m\u001b[0m\u001b[1;33m\u001b[0m\u001b[0m\n",
      "\u001b[1;31mNameError\u001b[0m: name 'count_result' is not defined"
     ]
    }
   ],
   "source": [
    "sum_result = {} #製品ごとに結果を格納する．初期化．\n",
    "for selected_prooduct in selected_prooducts: #選択製品リストから一つ一つを取り出す\n",
    "    for all_list in mydict: #選択製品のカウント結果のそれぞれの鍵を取り出す\n",
    "        if not all_list in sum_result:\n",
    "            sum_result[all_list] = 0\n",
    "            sum_result[all_list] += count_result[selected_product][all_list]\n",
    "        #count_result[selected_product]で該当レビューのカウント結果を抜き出せる\n",
    "        #Pythonのdict型では，未知鍵で呼び出した場合は新規に追加される仕様"
   ]
  },
  {
   "cell_type": "code",
   "execution_count": 73,
   "metadata": {
    "scrolled": true
   },
   "outputs": [
    {
     "name": "stdout",
     "output_type": "stream",
     "text": [
      "['./review\\\\mirrorless\\\\Canon\\\\EOS R5_body_1_1.txt', './review\\\\mirrorless\\\\Canon\\\\EOS R5_body_1_10.txt', './review\\\\mirrorless\\\\Canon\\\\EOS R5_body_1_11.txt', './review\\\\mirrorless\\\\Canon\\\\EOS R5_body_1_12.txt', './review\\\\mirrorless\\\\Canon\\\\EOS R5_body_1_13.txt', './review\\\\mirrorless\\\\Canon\\\\EOS R5_body_1_14.txt', './review\\\\mirrorless\\\\Canon\\\\EOS R5_body_1_15.txt', './review\\\\mirrorless\\\\Canon\\\\EOS R5_body_1_2.txt', './review\\\\mirrorless\\\\Canon\\\\EOS R5_body_1_3.txt', './review\\\\mirrorless\\\\Canon\\\\EOS R5_body_1_4.txt', './review\\\\mirrorless\\\\Canon\\\\EOS R5_body_1_5.txt', './review\\\\mirrorless\\\\Canon\\\\EOS R5_body_1_6.txt', './review\\\\mirrorless\\\\Canon\\\\EOS R5_body_1_7.txt', './review\\\\mirrorless\\\\Canon\\\\EOS R5_body_1_8.txt', './review\\\\mirrorless\\\\Canon\\\\EOS R5_body_1_9.txt', './review\\\\mirrorless\\\\Canon\\\\EOS R5_body_2_1.txt', './review\\\\mirrorless\\\\Canon\\\\EOS R5_body_2_10.txt', './review\\\\mirrorless\\\\Canon\\\\EOS R5_body_2_11.txt', './review\\\\mirrorless\\\\Canon\\\\EOS R5_body_2_12.txt', './review\\\\mirrorless\\\\Canon\\\\EOS R5_body_2_13.txt', './review\\\\mirrorless\\\\Canon\\\\EOS R5_body_2_14.txt', './review\\\\mirrorless\\\\Canon\\\\EOS R5_body_2_15.txt', './review\\\\mirrorless\\\\Canon\\\\EOS R5_body_2_2.txt', './review\\\\mirrorless\\\\Canon\\\\EOS R5_body_2_3.txt', './review\\\\mirrorless\\\\Canon\\\\EOS R5_body_2_4.txt', './review\\\\mirrorless\\\\Canon\\\\EOS R5_body_2_5.txt', './review\\\\mirrorless\\\\Canon\\\\EOS R5_body_2_6.txt', './review\\\\mirrorless\\\\Canon\\\\EOS R5_body_2_7.txt', './review\\\\mirrorless\\\\Canon\\\\EOS R5_body_2_8.txt', './review\\\\mirrorless\\\\Canon\\\\EOS R5_body_2_9.txt', './review\\\\mirrorless\\\\Canon\\\\EOS R5_body_3_1.txt', './review\\\\mirrorless\\\\Canon\\\\EOS R5_body_3_10.txt', './review\\\\mirrorless\\\\Canon\\\\EOS R5_body_3_11.txt', './review\\\\mirrorless\\\\Canon\\\\EOS R5_body_3_12.txt', './review\\\\mirrorless\\\\Canon\\\\EOS R5_body_3_13.txt', './review\\\\mirrorless\\\\Canon\\\\EOS R5_body_3_14.txt', './review\\\\mirrorless\\\\Canon\\\\EOS R5_body_3_15.txt', './review\\\\mirrorless\\\\Canon\\\\EOS R5_body_3_2.txt', './review\\\\mirrorless\\\\Canon\\\\EOS R5_body_3_3.txt', './review\\\\mirrorless\\\\Canon\\\\EOS R5_body_3_4.txt', './review\\\\mirrorless\\\\Canon\\\\EOS R5_body_3_5.txt', './review\\\\mirrorless\\\\Canon\\\\EOS R5_body_3_6.txt', './review\\\\mirrorless\\\\Canon\\\\EOS R5_body_3_7.txt', './review\\\\mirrorless\\\\Canon\\\\EOS R5_body_3_8.txt', './review\\\\mirrorless\\\\Canon\\\\EOS R5_body_3_9.txt']\n",
      "['./review\\\\mirrorless\\\\Canon\\\\EOS R6_body_1_1.txt', './review\\\\mirrorless\\\\Canon\\\\EOS R6_body_1_10.txt', './review\\\\mirrorless\\\\Canon\\\\EOS R6_body_1_11.txt', './review\\\\mirrorless\\\\Canon\\\\EOS R6_body_1_12.txt', './review\\\\mirrorless\\\\Canon\\\\EOS R6_body_1_13.txt', './review\\\\mirrorless\\\\Canon\\\\EOS R6_body_1_14.txt', './review\\\\mirrorless\\\\Canon\\\\EOS R6_body_1_15.txt', './review\\\\mirrorless\\\\Canon\\\\EOS R6_body_1_2.txt', './review\\\\mirrorless\\\\Canon\\\\EOS R6_body_1_3.txt', './review\\\\mirrorless\\\\Canon\\\\EOS R6_body_1_4.txt', './review\\\\mirrorless\\\\Canon\\\\EOS R6_body_1_5.txt', './review\\\\mirrorless\\\\Canon\\\\EOS R6_body_1_6.txt', './review\\\\mirrorless\\\\Canon\\\\EOS R6_body_1_7.txt', './review\\\\mirrorless\\\\Canon\\\\EOS R6_body_1_8.txt', './review\\\\mirrorless\\\\Canon\\\\EOS R6_body_1_9.txt']\n"
     ]
    }
   ],
   "source": [
    "#txtファイルを読みこむ\n",
    "files = glob.glob(\"./review/*/*/{}_*_*.txt\".format(series)) #*に入るのは何でもいい\n",
    "for file in files:\n",
    "    f = open(file,\"r\")\n",
    "    review = f.read() \n",
    "\n",
    "    #mydictの値の部分をカウントしていく\n",
    "    skip_flag = False #Falseは0と同じ\n",
    "    for tuple_list in mydict: #tuple_listはキヤノンらしいのかたまり\n",
    "        for item in tuple_list: #itemはキヤノンらしいなどの単語1つ1つ\n",
    "            if review.count(item) > 0: #数えた結果が0より大きかったら\n",
    "                skip_flag = True #Trueは1と同じ\n",
    "                continue #次のitemに行く\n",
    "\n",
    "        if skip_flag == True: #skip_flagがTrueなら処理実行\n",
    "            skip_flag = False #Trueを踏んだらFalseに戻す\n",
    "            mydict[tuple_list] += 1 #mydictの値のカウントを１増やす\n",
    "            continue #次のtuple_listに行く\n",
    "        f.close()"
   ]
  },
  {
   "cell_type": "code",
   "execution_count": null,
   "metadata": {},
   "outputs": [],
   "source": []
  },
  {
   "cell_type": "code",
   "execution_count": 70,
   "metadata": {},
   "outputs": [],
   "source": [
    "file = open(\"評価ワード出現率＿シリーズ.csv\", \"w\", encoding = 'cp932', errors = 'ignore', newline=\"\")\n",
    "writer = csv.writer(file)\n",
    "mylist = list(mydict.values())\n",
    "keisan_list = []\n",
    "name_list = []\n",
    "    \n",
    "for mykey,myvalue in mydict.items():\n",
    "    keisan = myvalue*100/len(files)\n",
    "    keisan_list.append(keisan)\n",
    "    name_list.append(mykey[0])\n",
    "    \n",
    "writer.writerow(name_list)\n",
    "writer.writerow(mylist)\n",
    "writer.writerow(keisan_list)\n",
    "file.close()\n",
    "#print(mylist)"
   ]
  },
  {
   "cell_type": "code",
   "execution_count": null,
   "metadata": {},
   "outputs": [],
   "source": []
  },
  {
   "cell_type": "code",
   "execution_count": null,
   "metadata": {},
   "outputs": [],
   "source": []
  },
  {
   "cell_type": "code",
   "execution_count": null,
   "metadata": {},
   "outputs": [],
   "source": []
  },
  {
   "cell_type": "code",
   "execution_count": null,
   "metadata": {},
   "outputs": [],
   "source": []
  },
  {
   "cell_type": "code",
   "execution_count": null,
   "metadata": {},
   "outputs": [],
   "source": []
  },
  {
   "cell_type": "code",
   "execution_count": null,
   "metadata": {},
   "outputs": [],
   "source": []
  },
  {
   "cell_type": "code",
   "execution_count": null,
   "metadata": {},
   "outputs": [],
   "source": []
  }
 ],
 "metadata": {
  "kernelspec": {
   "display_name": "Python 3",
   "language": "python",
   "name": "python3"
  },
  "language_info": {
   "codemirror_mode": {
    "name": "ipython",
    "version": 3
   },
   "file_extension": ".py",
   "mimetype": "text/x-python",
   "name": "python",
   "nbconvert_exporter": "python",
   "pygments_lexer": "ipython3",
   "version": "3.7.1"
  }
 },
 "nbformat": 4,
 "nbformat_minor": 2
}
