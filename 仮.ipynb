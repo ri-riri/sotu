{
 "cells": [
  {
   "cell_type": "code",
   "execution_count": 22,
   "metadata": {},
   "outputs": [
    {
     "name": "stdout",
     "output_type": "stream",
     "text": [
      "Requirement already satisfied: requests in c:\\anaconda3\\lib\\site-packages (2.21.0)\n",
      "Requirement already satisfied: idna<2.9,>=2.5 in c:\\anaconda3\\lib\\site-packages (from requests) (2.8)\n",
      "Requirement already satisfied: chardet<3.1.0,>=3.0.2 in c:\\anaconda3\\lib\\site-packages (from requests) (3.0.4)\n",
      "Requirement already satisfied: urllib3<1.25,>=1.21.1 in c:\\anaconda3\\lib\\site-packages (from requests) (1.24.1)\n",
      "Requirement already satisfied: certifi>=2017.4.17 in c:\\anaconda3\\lib\\site-packages (from requests) (2018.11.29)\n"
     ]
    }
   ],
   "source": [
    "!pip install requests"
   ]
  },
  {
   "cell_type": "code",
   "execution_count": 23,
   "metadata": {},
   "outputs": [
    {
     "name": "stdout",
     "output_type": "stream",
     "text": [
      "Requirement already satisfied: beautifulsoup4 in c:\\anaconda3\\lib\\site-packages (4.6.3)\n"
     ]
    }
   ],
   "source": [
    "!pip install beautifulsoup4"
   ]
  },
  {
   "cell_type": "code",
   "execution_count": 24,
   "metadata": {},
   "outputs": [],
   "source": [
    "import os , os.path\n",
    "import sys\n",
    "import pandas as pd#xlsxのファイルをcsvにする\n",
    "import ast\n",
    "import requests\n",
    "from bs4 import BeautifulSoup\n",
    "import json\n",
    "from urllib import request\n",
    "import csv\n",
    "APPID = \"dj00aiZpPUVzanI5WmtzbjExVyZzPWNvbnN1bWVyc2VjcmV0Jng9NTQ-\"  # <-- ここにあなたのアプリケーションIDを設定してください。\n",
    "URL = \"https://jlp.yahooapis.jp/DAService/V2/parse\"\n",
    "\n",
    "def post(query):\n",
    "    headers = {\n",
    "        \"Content-Type\": \"application/json\",\n",
    "        \"User-Agent\": \"Yahoo AppID: {}\".format(APPID),\n",
    "    }\n",
    "    param_dic = {\n",
    "        \"id\": \"1234-1\",\n",
    "        \"jsonrpc\": \"2.0\",\n",
    "        \"method\": \"jlp.daservice.parse\",\n",
    "        \"params\": {\"q\": query},\n",
    "    }\n",
    "    params = json.dumps(param_dic).encode()\n",
    "    req = request.Request(URL, params, headers)\n",
    "    with request.urlopen(req) as res:\n",
    "        body = res.read()\n",
    "    return body.decode()"
   ]
  },
  {
   "cell_type": "code",
   "execution_count": 25,
   "metadata": {},
   "outputs": [],
   "source": [
    "cameras = {\"EOS R5_body\":[\"K0001272146\",3] , \"EOS Kiss M_doublekit\":[\"J0000027006\",3] , \"EOS R_body\":[\"K0001086545\",11] , \"EOS RP_body\":[\"K0001129952\",3] , \"EOS M5_body\":[\"K0000910398\",4] , \"EOS Kiss M_body\":[\"J0000027002\",3] , \"EOS Kiss M_STMkit\":[\"J0000001579\",2] , \"EOS M_doublekit\":[\"J0000001581\",15] , \"EOS M2_doublekit\":[\"J0000011374\",4] , \"EOS M3_body\":[\"J0000014693\",3]}"
   ]
  },
  {
   "cell_type": "code",
   "execution_count": 26,
   "metadata": {},
   "outputs": [],
   "source": [
    "for camera in cameras:\n",
    "    for page in range(1,cameras[camera][1]+1):\n",
    "        r = requests.get(\"https://review.kakaku.com/review/{0}/page={1}/#tab\".format(cameras[camera][0],str(page)))\n",
    "        soup = BeautifulSoup(r.content, \"html.parser\")\n",
    "        wordclass = soup.find_all(\"p\",\"revEntryCont\")\n",
    "        for person,item in enumerate(wordclass,1):\n",
    "            word = str(item.text).replace('\\\\u3000', ' ')\n",
    "            #print(person)\n",
    "            #print(word)\n",
    "            #response = post(word)\n",
    "            response = ast.literal_eval(post(word))\n",
    "            #print(response)\n",
    "            with open(\"./review/{0}_{1}_{2}.csv\".format(camera,str(page),person), \"w\", newline=\"\")as fp:# newline=\"\"はcsvファイルの一行詰めるため\n",
    "                for element in response[\"result\"][\"chunks\"]:\n",
    "                    #print(element[\"tokens\"])\n",
    "                    #lst = list(csv.reader(fp))\n",
    "                    writer = csv.writer(fp)\n",
    "                    writer.writerows(element[\"tokens\"])\n",
    "                #file = open(\"./review/{0}_{1}_{2}.txt\".format(camera,str(page),person), \"w\", encoding = 'cp932', errors = 'ignore')\n",
    "                #file.write(word)\n",
    "                #file.close()\n",
    "            with open(\"./review/{0}_{1}_{2}.csv\".format(camera,str(page),person), encoding = 'cp932', errors = 'ignore') as fp:\n",
    "                lst = []\n",
    "                reader = csv.reader(fp)\n",
    "                for row in reader:\n",
    "                    lst.append(row[2])#C列\n",
    "            #print(lst)#listはレビューを係り受け解析し、csvにし、Ⅽ列（原形）を抜き出したもの"
   ]
  },
  {
   "cell_type": "code",
   "execution_count": 29,
   "metadata": {},
   "outputs": [],
   "source": [
    "#print(\"{}{: >25}{}{: >10}{}\".format('|','Variable Name','|','Memory','|'))\n",
    "#print(\" ------------------------------------ \")\n",
    "#for var_name in dir():\n",
    "    #if not var_name.startswith(\"_\") and sys.getsizeof(eval(var_name)) > 100: #ここだけアレンジ\n",
    "        #print(\"{}{: >25}{}{: >10}{}\".format('|',var_name,'|',sys.getsizeof(eval(var_name)),'|'))"
   ]
  },
  {
   "cell_type": "code",
   "execution_count": 30,
   "metadata": {},
   "outputs": [],
   "source": [
    "#del BeautifulSoup, APPID, cameras, post, word, wordclass, lst, element, response #容量大きいものを削除"
   ]
  },
  {
   "cell_type": "code",
   "execution_count": 43,
   "metadata": {},
   "outputs": [
    {
     "name": "stdout",
     "output_type": "stream",
     "text": [
      "{'キヤノン': 0, 'らしい': 0, 'ない': 0, 'ニコン': 0, 'フジ': 0, 'ソニー': 0, 'パナソニック': 0, 'LUMIX': 0, '手': 0, 'に': 0, 'なじむ': 0, 'な': 0, 'しめる': 0, '直感': 0, '的': 0, '複雑だ': 0, '操作': 0, 'ひと': 0, '手間': 0, '軽量': 0, '重い': 0, '小さい': 0, '大きい': 0, '使う': 0, 'やすい': 0, 'づらい': 0, '握る': 0, '持つ': 0, '滑る': 0, 'にくい': 0, '落とす': 0, 'そう': 0, '深い': 0, 'ブリップ': 0, 'ホールド': 0, '感': 0, 'グリップ': 0, '見やすい': 0, '見づらい': 0, '覗く': 0, '撮影': 0, 'する': 0, '運ぶ': 0, '押す': 0, '間違える': 0, '回す': 0, '安い': 0, '高額だ': 0, '高級だ': 0, '安っぽい': 0, '違和感': 0, 'シンプルだ': 0, 'スッキリ': 0, 'スタイリッシュ': 0, '安定': 0, 'フィット': 0, '疲れる': 0, '目': 0, 'の': 0, '疲労': 0, '自分': 0, '好み': 0, 'カスタマイズ': 0, '薄い': 0, '手軽だ': 0, '気軽だ': 0, 'コンパクト': 0, 'かさばる': 0, '高': 0, '性能': 0, '新': 0, '機能': 0, '追随': 0, '性': 0, 'AF': 0, '光学': 0, 'タッチ': 0, 'アンド': 0, 'ドラッグ': 0, '慣れる': 0, '問題': 0, '同じだ': 0, '戸惑う': 0, '分かる': 0, 'わかる': 0, 'UI': 0, 'かっこいい': 0, 'かっこ悪い': 0, 'かわいい': 0, '洗練': 0, 'れる': 0, '好きだ': 0, 'デザイン': 0, 'エッジ': 0, '効く': 0, '合理': 0, '的だ': 0, '無骨だ': 0, '角ばる': 0, '先進': 0, 'オシャレ': 0, 'だ': 0, 'シックだ': 0, '未来': 0, 'グッド': 0, '直線': 0, 'カメラ': 0, '無難だ': 0, '遊び心': 0, 'ユニークだ': 0, '飽きる': 0, 'クラシックだ': 0, 'メカニカル': 0, 'メタリック': 0, 'マグネシウムボディ': 0, 'プラスチック': 0, 'レトロ': 0, '昭和': 0, 'ノスタルジックだ': 0, '野暮ったい': 0, '画': 0, '質': 0, 'そこそこ': 0, 'ノイズ': 0, '粗い': 0, 'ボケ': 0, '便利だ': 0, '不便だ': 0, '好き嫌い': 0, '改善': 0, 'ファーム': 0, 'アップ': 0, '要': 0, 'お': 0, '気に入る': 0, 'オススメオススメ': 0, 'は': 0, 'ます': 0, 'ぬ': 0, '満足': 0, '予想': 0, '以上': 0, '魅力': 0, '感動': 0, '名': 0, '機': 0, '優秀だ': 0, '快適だ': 0, '素晴らしい': 0, 'コスパ': 0, '至る': 0, 'る': 0, '尽くせる': 0, '不満だ': 0, '物足りない': 0, 'イライラ': 0, '酷評': 0, '面倒だ': 0, '安心': 0, 'キレイだ': 0, 'クリア': 0, '精': 0, '細い': 0, '感度': 0, '楽しい': 0, 'ワクワク': 0, 'マルチファンクション': 0, 'バー': 0, '長持ち': 0, '予備': 0, 'バッテリー': 0, 'もう': 0, '少し': 0, 'USB': 0, '給電': 0, '充電': 0, '中': 0, '使える': 0, '単': 0, '3': 0, '電池': 0, 'ワン': 0, 'アクション': 0, '直す': 0, '誤': 0, '動作': 0, '高速だ': 0, '爆': 0, '速い': 0, 'タイムラグ': 0, '愛着': 0, 'が': 0, 'わく': 0, 'いい': 0, '色': 0, '鮮やかだ': 0, '白い': 0, '飛ぶ': 0, '明るい': 0, 'すぎる': 0, '最新': 0, '創造': 0, '上質だ': 0, '品質': 0, '重厚だ': 0, 'aps': 0, '-': 0, 'c': 0, '万能': 0, '無い': 0, 'ゴツゴツ': 0, '窮屈だ': 0, 'ジャスピン': 0, 'バリ': 0, 'アングル': 0, 'チルト': 0, '剥がれる': 0, 'めだ': 0, '液晶': 0, '無': 0, '音': 0, 'シャッター': 0, '心地': 0, '上品だ': 0, 'レンズ': 0, '拡充': 0, '拡張': 0, '期待': 0, '光': 0, '軸': 0, '線上': 0, 'シャープだ': 0, '解像度': 0, '塗りつぶす': 0, '堅い': 0, '牢': 0, '性質': 0, '実': 0, '剛': 0, '健': 0, '防水': 0, '防塵': 0, 'キャッシュ': 0, 'バック': 0, 'キャンペーン': 0, 'サブ': 0, 'XQD': 0, 'カード': 0, '軽快だ': 0, '統一': 0, '透明だ': 0, 'コントロール': 0, 'ダイヤル': 0, 'ボタン': 0, 'で': 0, 'パネル': 0, '構図': 0, '決める': 0, 'られる': 0, 'ブラック': 0, 'アウト': 0, 'ショック': 0, 'フォーサーズ': 0, 'かゆい': 0, 'ところ': 0, '届く': 0, '％': 0, '表示': 0, 'つるつる': 0, 'アナログ': 0, 'ユーザーフレンドリー': 0}\n"
     ]
    }
   ],
   "source": [
    "df1 = pd.read_excel(\"new評価ワード.xlsx\", sheet_name=0)\n",
    "df1.to_csv(\"new評価ワード.csv\", index=False, header=None, encoding='utf_8_sig')\n",
    "with open(\"new評価ワード.csv\", encoding='utf_8_sig') as fp:\n",
    "    hyokaword_lst = []\n",
    "    reader = csv.reader(fp)\n",
    "    for row in reader:\n",
    "        hyokaword_lst.append(row[0])#A列\n",
    "mojiretsu = ''.join(hyokaword_lst)\n",
    "#print(hyokaword_lst)\n",
    "#print(type(hyokaword_lst))\n",
    "#print(mojiretsu)\n",
    "response = ast.literal_eval(post(mojiretsu))\n",
    "#print(response)\n",
    "with open(\"new評価ワード(係り受け済).csv\", \"w\", newline=\"\")as fp:# newline=\"\"はcsvファイルの一行詰めるため\n",
    "    writer = csv.writer(fp)\n",
    "    for element in response[\"result\"][\"chunks\"]:\n",
    "        #print(element[\"tokens\"])\n",
    "        #lst = list(csv.reader(fp))\n",
    "        writer.writerows(element[\"tokens\"])\n",
    "with open(\"new評価ワード(係り受け済).csv\") as fp:\n",
    "    hyokaword_genkei_lst = []\n",
    "    reader = csv.reader(fp)\n",
    "    for row in reader:\n",
    "        hyokaword_genkei_lst.append(row[2])#C列\n",
    "    #print(hyokaword_genkei_lst)\n",
    "\n",
    "    word_dict = {}\n",
    "    for hyokaword_genkei in hyokaword_genkei_lst:\n",
    "        word_dict[hyokaword_genkei] = 0\n",
    "    print(word_dict)"
   ]
  },
  {
   "cell_type": "code",
   "execution_count": 28,
   "metadata": {},
   "outputs": [],
   "source": [
    "df2 = pd.read_excel(\"new評価表現辞書.xlsx\", sheet_name=0)\n",
    "df2.to_csv(\"new評価表現辞書.csv\", index=False, header=None, encoding='utf_8_sig')\n",
    "with open(\"new評価表現辞書.csv\", encoding='utf_8_sig') as fp:\n",
    "    hyokajisyo_lst = []\n",
    "    reader = csv.reader(fp)\n",
    "    for row in reader:\n",
    "        hyokajisyo_lst.append(row[0])#A列\n",
    "mojiretsu2 = ''.join(hyokajisyo_lst)\n",
    "#print(hyokajisyo_lst)\n",
    "response = ast.literal_eval(post(mojiretsu2))\n",
    "#print(response)\n",
    "with open(\"new評価表現辞書(係り受け済).csv\", \"w\", newline=\"\")as fp:# newline=\"\"はcsvファイルの一行詰めるため\n",
    "    writer = csv.writer(fp)\n",
    "    for element in response[\"result\"][\"chunks\"]:\n",
    "        #print(element[\"tokens\"])\n",
    "        #lst = list(csv.reader(fp))\n",
    "        writer.writerows(element[\"tokens\"])"
   ]
  },
  {
   "cell_type": "code",
   "execution_count": 8,
   "metadata": {},
   "outputs": [
    {
     "name": "stdout",
     "output_type": "stream",
     "text": [
      "|            Variable Name|    Memory|\n",
      " ------------------------------------ \n",
      "|                       fp|       216|\n",
      "|                   reader|       104|\n",
      "|                      row|       128|\n"
     ]
    }
   ],
   "source": [
    "print(\"{}{: >25}{}{: >10}{}\".format('|','Variable Name','|','Memory','|'))\n",
    "print(\" ------------------------------------ \")\n",
    "for var_name in dir():\n",
    "    if not var_name.startswith(\"_\") and sys.getsizeof(eval(var_name)) > 100: #ここだけアレンジ\n",
    "        print(\"{}{: >25}{}{: >10}{}\".format('|',var_name,'|',sys.getsizeof(eval(var_name)),'|'))"
   ]
  },
  {
   "cell_type": "code",
   "execution_count": null,
   "metadata": {},
   "outputs": [],
   "source": [
    "del BeautifulSoup, df, hyoka_lst, hyokajisyo_lst, hyokaword_lst, jisyo_lst, mojiretsu, mojiretsu2 #容量大きいものを削除"
   ]
  },
  {
   "cell_type": "code",
   "execution_count": null,
   "metadata": {},
   "outputs": [],
   "source": []
  },
  {
   "cell_type": "code",
   "execution_count": 34,
   "metadata": {},
   "outputs": [
    {
     "name": "stdout",
     "output_type": "stream",
     "text": [
      "{'かっこいい': 0, '大きい': 0, '重い': 0, '使いやすい': 0, 'グリップ': 0, '安定': 0, '携帯性が良い': 0, '操作性が悪い': 0, 'グリップが良い': 0, 'ピントが合う': 0}\n"
     ]
    }
   ],
   "source": [
    "kanseis = [\"かっこいい\", \"大きい\", \"重い\", \"使いやすい\", \"グリップ\", \"安定\", \"携帯性が良い\", \"操作性が悪い\", \"グリップが良い\", \"ピントが合う\", ]\n",
    "mydict = {}\n",
    "for kansei in kanseis:\n",
    "    mydict[kansei] = 0\n",
    "print(mydict)"
   ]
  },
  {
   "cell_type": "code",
   "execution_count": null,
   "metadata": {},
   "outputs": [],
   "source": [
    "#lst = [\"suzuki\" , \"tanaka\" , \"satou\" , \"maeda\", \"tanaka\" , \"satou\" , \"maeda\"]"
   ]
  },
  {
   "cell_type": "code",
   "execution_count": null,
   "metadata": {},
   "outputs": [],
   "source": [
    "#lst.count(\"maeda\")"
   ]
  },
  {
   "cell_type": "code",
   "execution_count": null,
   "metadata": {},
   "outputs": [],
   "source": []
  }
 ],
 "metadata": {
  "kernelspec": {
   "display_name": "Python 3",
   "language": "python",
   "name": "python3"
  },
  "language_info": {
   "codemirror_mode": {
    "name": "ipython",
    "version": 3
   },
   "file_extension": ".py",
   "mimetype": "text/x-python",
   "name": "python",
   "nbconvert_exporter": "python",
   "pygments_lexer": "ipython3",
   "version": "3.7.1"
  }
 },
 "nbformat": 4,
 "nbformat_minor": 2
}
