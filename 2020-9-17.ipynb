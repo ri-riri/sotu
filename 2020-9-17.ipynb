{
 "cells": [
  {
   "cell_type": "code",
   "execution_count": 3,
   "metadata": {},
   "outputs": [
    {
     "name": "stdout",
     "output_type": "stream",
     "text": [
      "Requirement already satisfied: requests in c:\\anaconda3\\lib\\site-packages (2.21.0)\n",
      "Requirement already satisfied: chardet<3.1.0,>=3.0.2 in c:\\anaconda3\\lib\\site-packages (from requests) (3.0.4)\n",
      "Requirement already satisfied: certifi>=2017.4.17 in c:\\anaconda3\\lib\\site-packages (from requests) (2018.11.29)\n",
      "Requirement already satisfied: urllib3<1.25,>=1.21.1 in c:\\anaconda3\\lib\\site-packages (from requests) (1.24.1)\n",
      "Requirement already satisfied: idna<2.9,>=2.5 in c:\\anaconda3\\lib\\site-packages (from requests) (2.8)\n"
     ]
    }
   ],
   "source": [
    "!pip install requests"
   ]
  },
  {
   "cell_type": "code",
   "execution_count": 4,
   "metadata": {},
   "outputs": [
    {
     "name": "stdout",
     "output_type": "stream",
     "text": [
      "Requirement already satisfied: beautifulsoup4 in c:\\anaconda3\\lib\\site-packages (4.6.3)\n"
     ]
    }
   ],
   "source": [
    "!pip install beautifulsoup4"
   ]
  },
  {
   "cell_type": "code",
   "execution_count": 5,
   "metadata": {},
   "outputs": [],
   "source": [
    "import os , os.path #osを読み込む\n",
    "import sys\n",
    "import pandas as pd #xlsxのファイルをcsvにする\n",
    "import ast\n",
    "import requests\n",
    "from bs4 import BeautifulSoup\n",
    "import json\n",
    "from urllib import request\n",
    "import csv"
   ]
  },
  {
   "cell_type": "code",
   "execution_count": null,
   "metadata": {},
   "outputs": [],
   "source": [
    "#ここから係り受け構文解析\n",
    "#APPID = \"dj00aiZpPUVzanI5WmtzbjExVyZzPWNvbnN1bWVyc2VjcmV0Jng9NTQ-\"  # <-- ここにあなたのアプリケーションIDを設定してください。\n",
    "#URL = \"https://jlp.yahooapis.jp/DAService/V2/parse\"\n",
    "\n",
    "#post(???)で係り受け解析をした結果を得ることができる\n",
    "#def post(query):\n",
    "#    headers = {\n",
    "#        \"Content-Type\": \"application/json\",\n",
    "#        \"User-Agent\": \"Yahoo AppID: {}\".format(APPID),\n",
    "#    }\n",
    "#    param_dic = {\n",
    "#        \"id\": \"1234-1\",\n",
    "#        \"jsonrpc\": \"2.0\",\n",
    "#        \"method\": \"jlp.daservice.parse\",\n",
    "#        \"params\": {\"q\": query},\n",
    "#    }\n",
    "#    params = json.dumps(param_dic).encode()\n",
    "#    req = request.Request(URL, params, headers)\n",
    "#    with request.urlopen(req) as res:\n",
    "#        body = res.read()\n",
    "#    return body.decode()"
   ]
  },
  {
   "cell_type": "code",
   "execution_count": 6,
   "metadata": {},
   "outputs": [],
   "source": [
    "#辞書型 {鍵：値}\n",
    "cameras = {\"EOS R5_body\":[\"K0001272146\",3] , \"EOS Kiss M_doublekit\":[\"J0000027006\",3] , \"EOS R_body\":[\"K0001086545\",11] , \"EOS RP_body\":[\"K0001129952\",3] , \"EOS M5_body\":[\"K0000910398\",4] , \"EOS Kiss M_body\":[\"J0000027002\",3] , \"EOS Kiss M_STMkit\":[\"J0000001579\",2] , \"EOS M_doublekit\":[\"J0000001581\",15] , \"EOS M2_doublekit\":[\"J0000011374\",4] , \"EOS M3_body\":[\"J0000014693\",3]}"
   ]
  },
  {
   "cell_type": "code",
   "execution_count": 7,
   "metadata": {},
   "outputs": [],
   "source": [
    "#dic = {'key1': 110, 'key2': 270, 'key3': 350}　　\n",
    "#for key in dic:　　 \n",
    "    #print(key) # key1〜key3が出力される　　 \n",
    "    #print(dic[key]) # それぞれのkeyに対応する値が出力される"
   ]
  },
  {
   "cell_type": "code",
   "execution_count": 8,
   "metadata": {},
   "outputs": [],
   "source": [
    "#d = {\"D5500\" : [\"123456\",5]}\n",
    "#print(d[\"D5500\"][1])#5が出力"
   ]
  },
  {
   "cell_type": "code",
   "execution_count": 9,
   "metadata": {},
   "outputs": [],
   "source": [
    "for camera in cameras:\n",
    "    for page in range(1,cameras[camera][1]+1): #range(1,4)は1,2,3なので＋1をする\n",
    "        r = requests.get(\"https://review.kakaku.com/review/{0}/page={1}/#tab\".format(cameras[camera][0],str(page))) #requestを使ってurlを呼び出す parserでrを分析  {0}{1}はformatの何番目にその要素があるか\n",
    "        soup = BeautifulSoup(r.content, \"html.parser\") #BeautifulSoupのアルゴリズムを使う\n",
    "        wordclass = soup.find_all(\"p\",\"revEntryCont\") #pでくくられたrevEntryCont（レビュー本文）を全部探す\n",
    "        for person,item in enumerate(wordclass,1): #for i, name in enumerate(l, 1):  print(i, name)  1 Alice  2 Bob  3 Charlie　　\n",
    "            word = str(item.text).replace('\\\\u3000', ' ') #strにすることで1などの数字は全部文字列型にする\n",
    "            #print(person)\n",
    "            #print(word)\n",
    "            #response = post(word)\n",
    "#            response = ast.literal_eval(post(word))\n",
    "            #print(response)\n",
    "#            with open(\"./review/{0}_{1}_{2}.csv\".format(camera,str(page),person), \"w\", newline=\"\")as fp: #newline=\"\"はcsvファイルの一行詰めるため\n",
    "#                for element in response[\"result\"][\"chunks\"]:\n",
    "                    #print(element[\"tokens\"])\n",
    "                    #lst = list(csv.reader(fp))\n",
    "#                    writer = csv.writer(fp)\n",
    "#                    writer.writerows(element[\"tokens\"])\n",
    "            file = open(\"./review/{0}_{1}_{2}.txt\".format(camera,str(page),person), \"w\", encoding = 'cp932', errors = 'ignore')\n",
    "            file.write(word)\n",
    "            file.close()\n",
    "                \n",
    "    \n",
    "#            with open(\"./review/{0}_{1}_{2}.csv\".format(camera,str(page),person), encoding = 'cp932', errors = 'ignore') as fp:\n",
    "#                lst = []\n",
    "#                reader = csv.reader(fp)\n",
    "#                for row in reader:\n",
    "#                    lst.append(row[2])#C列\n",
    "            #print(lst)#listはレビューを係り受け解析し、csvにし、Ⅽ列（原形）を抜き出したもの"
   ]
  },
  {
   "cell_type": "code",
   "execution_count": 10,
   "metadata": {},
   "outputs": [
    {
     "name": "stdout",
     "output_type": "stream",
     "text": [
      "[[1, 2, 3], [4, 5, 6]]\n"
     ]
    }
   ],
   "source": [
    "a = [1,2,3]\n",
    "b = [4,5,6]\n",
    "xs = [a, b]\n",
    "\n",
    "print(xs)"
   ]
  },
  {
   "cell_type": "code",
   "execution_count": 105,
   "metadata": {},
   "outputs": [
    {
     "name": "stdout",
     "output_type": "stream",
     "text": [
      "[['キヤノンらしい', 'キャノンらしい', 'キャノンらしく', 'キヤノンらしさ', 'キャノンっぽい', 'キヤノンぽい', 'Canonらしい', 'Canonらしく', 'canonらしさ'], ['キヤノンらしくない'], ['ニコンらしい', 'ニコンらしく', 'ニコンらしさ', 'ニコンっぽい', 'ニコン機らしい', 'Ｎｉｋｏｎらしい', 'NIKONらしい', 'Nikonらしい', 'Nikonらしく'], ['フジらしい', 'FUJIFILMらしさ'], ['ソニーらしい', 'SONYらしい'], ['パナソニックらしい'], ['LUMIXらしい', 'Lumix らしい'], ['手になじむ', '手になじみ', '手に馴染む', '手によく馴染み', '手に馴染んで', '馴染み'], ['なじめない', 'なじめなく', '馴染めず', '馴染めなかった', '慣れません'], ['直感的', '直感操作', '直感的な操作', '直感的に', '直感的な'], ['複雑な操作', '直感的とは言えない'], ['ひと手間', '持ち替え'], ['軽量', '軽量化', '軽く', '重くない'], ['重い', '重く', '重たい', '重さ', '重め'], ['小さい', '小さく', '小型', '小さすぎる'], ['大きい', '大きく', '大きめ', 'でかい', 'でかく', 'デカく', '大きすぎる'], ['使いやすい', '使い易い', '使いやすく', '使い易さ', '使い易く', '使用しやすい', 'やりやすい', '扱いやすい', '容易に操作', '優れた操作性', '快適な操作性'], ['使いづらい', '使い辛い', '使い難い', '使いにくく', 'やりづらい', 'やりにくい', 'しづらい', 'し辛い', 'しにくい', '使いこなせない', '難しい'], ['握りやすい', '握りやすく', '握り易く', '握りやすさ', '握りやすかった', '持ちやすい', 'つかみやすい', 'しっかり握れ', 'しっかり持てる'], ['持ちづらい', '持ちにくい', '握りにくい'], ['滑りにくい'], ['滑りやすい', 'すべりやすい', '滑ります', '滑ってしまう'], ['落としそう'], ['深いブリップ'], ['ホールド感', 'ホールド性', '良いホールド感', '良好なホールド性', '心地よいホールド感', '素晴らしいホールド感', 'しっかりホールド', '十分なホールド感'], ['グリップ', 'グリップ性', 'しっかりしたグリップ'], ['見やすい', '見易く', 'みやすく'], ['見づらい', '見辛い', '見難い', '見にくい'], ['覗きやすい'], ['撮影しやすい', '撮りやすい'], ['運びやすい', '持ち出しやすい', '文句なしの携帯性'], ['押しづらい', '押しづらく', '押しにくい', '押しにくく'], ['押し間違える'], ['回しづらい', '回し辛い', '回しにくい'], ['安い', '安かった', '安価', '低価格', '激安', '格安', '価格も下がり', '購入しやすい価格', 'お値打ち', 'リーズナブル', '値下がり'], ['高額', '高すぎ', '高すぎる'], ['高級感', '安っぽくない', '安っぽくなく', 'ゴージャス'], ['安っぽい', '安っぽさ', '安物っぽい', 'チープさ', '高級感が感じられません', '高級感はありません'], ['違和感', '違和感を覚え'], ['シンプル'], ['スッキリ', 'スッキリしたデザイン'], ['スタイリッシュ'], ['安定', '安定感'], ['フィット', 'フィットする', '手にフィット', '手にフィットする'], ['疲れない', '疲れません', '手がつかれません'], ['疲れる', '疲れます', '疲れました', '手が疲れる', '手首に負担', '手首が痛く', '手が疲れ'], ['目の疲労'], ['自分好み'], ['カスタマイズ', 'カスタマイズ性能', 'カスタム'], ['薄く', 'スリム'], ['手軽', '手軽さ', 'お手軽'], ['気軽'], ['コンパクト', 'スペースを取らない', 'スッキリと収まり', 'かさばらない'], ['かさばる', 'かさばり', 'かさばります', '邪魔', 'コンパクトとは言えません'], ['高性能'], ['新機能'], ['追随性'], ['AF性能'], ['光学性能'], ['タッチアンドドラッグ'], ['慣れる', '慣れ', '慣れ易い', '直ぐに慣れます', '直ぐに慣れる', 'すぐに慣れる', 'すぐに慣れました'], ['慣れの問題'], ['同じ操作性', '操作感が同じ', '操作系を踏襲', '慣れ親しんだ操作性'], ['戸惑い', '戸惑う', '戸惑いはあり'], ['分かりやすい', '迷うことなく'], ['わかりづらい', '分かりにくい', 'わかりにくい', '理解不能'], ['使い慣れたUI'], ['かっこいい', 'かっこよく', 'カッコいい', 'カッコよく', 'カッコよさ', 'カッコよかった', 'カッコイイ', 'カッコ良い', 'カッコ良すぎ', '格好いい', '格好良い'], ['かっこ悪い', 'カッコ悪い', 'かっこよくない', 'カッコいいとは言えない'], ['かわいい'], ['洗練された', '洗練され', '洗練されている', '洗練されたデザイン'], ['好きなデザイン'], ['エッジの効いたデザイン'], ['合理的なデザイン'], ['無骨な', '無骨', '無骨なデザイン'], ['角ばった', '角ばったデザイン'], ['先進的な', '先鋭的'], ['オシャレな', 'オシャレ', 'おしゃれ', 'お洒落な', 'お洒落'], ['シックな', 'シック', 'シックなデザイン'], ['未来的'], ['グッドデザイン'], ['直線的', '直線的なデザイン'], ['カメラらしい', 'カメラらしいデザイン'], ['無難', '無難なデザイン'], ['遊び心'], ['ユニークな'], ['飽きない', '飽きないデザイン', '飽きのこないデザイン'], ['クラシックな', 'クラシック', 'クラシカルな', 'クラシカル'], ['メカニカルな', 'メカニカル', 'メカメカしく'], ['メタリック'], ['マグネシウムボディ'], ['プラスチック', 'プラスチッキー'], ['レトロな', 'レトロ'], ['昭和'], ['ノスタルジックな', '懐古'], ['野暮ったく'], ['高画質', '最高画質', '最高レベルの画質', '満足な画質', '素晴らしい画質', 'すばらしい画質', '十分な画質', '満足する画質', 'キレの良い画質'], ['そこそこの画質'], ['ノイズ', 'ノイズが少し目立つ'], ['粗い', '粗さ'], ['ボケない'], ['便利'], ['不便'], ['好き', '好み', '好感が持てる'], ['嫌い', '好みではありません'], ['改善'], ['ファームアップ', 'ファームアップに期待', 'ファームアップを望みます'], ['要改善'], ['お気に入り', '気に入ってます', '気にいった'], ['オススメ', 'おすすめ', 'お勧め'], ['オススメはしません', 'オススメもしません'], ['満足', '大満足', '期待通り'], ['予想以上', '期待以上'], ['魅力的', '魅力を感じ'], ['感動'], ['名機'], ['優秀', '秀逸なカメラ', '最高'], ['快適'], ['素晴らしい', '素晴らしく'], ['コスパ'], ['至れり尽くせり'], ['不満', '後悔', '良さがわからない', '残念', 'がっかり', 'ガッカリ'], ['物足りない'], ['イライラ'], ['酷評'], ['面倒', 'めんどくさい', '煩わしい'], ['安心', '安心感'], ['キレイ', '綺麗', '美しさ'], ['クリア', 'クリアー'], ['精細な', '高精細'], ['高感度', '高感度耐性'], ['楽しい', '楽しく', '楽しみ', '楽しさ', '楽しめる', '楽しくなる'], ['ワクワク', 'わくわく'], ['楽しくない'], ['マルチファンクションバー'], ['長持ち'], ['予備バッテリー', '予備', '予備のバッテリー'], ['もう少し長持ち', 'バッテリー持ちが良いとは言えません'], ['USB給電', 'ＵＳＢ給電', 'USB充電', 'USBで充電'], ['充電中使えない'], ['単3電池', '単三電池', '単3アルカリ', '単三バッテリー', '乾電池式'], ['ワンアクション', 'ワンタッチ'], ['握り直す'], ['誤動作', '誤作動'], ['誤操作'], ['高速操作'], ['爆速', '俊敏'], ['タイムラグ'], ['愛着がわく', '愛着の湧く', '愛着が湧いて', '愛着が出て', '愛着が持てる'], ['いい色', '好みの色', '最高の発色'], ['鮮やか'], ['白く飛ぶ', '白く飛んで'], ['明るすぎる'], ['鮮やかすぎる'], ['最新'], ['創造性'], ['上質', '高質感', '高い質感', '良い質感'], ['高品質'], ['重厚感'], ['aps-c'], ['万能', '万能なカメラ'], ['角ばって無い'], ['ゴツゴツ', 'ごっつい'], ['窮屈'], ['ジャスピン'], ['バリアングル'], ['チルト'], ['剥がれ', 'ボディの剥がれ', 'ラバーが剥がれる', 'グリップが剥がれ', '捲れてきたりする'], ['大きめの液晶'], ['無音撮影', 'サイレント撮影'], ['無音シャッター', '極小のシャッター音'], ['心地いい音', '素晴らしいシャッター音', '上品な音'], ['上品'], ['レンズの拡充', 'レンズが拡張'], ['レンズの拡張に期待'], ['光軸線上'], ['シャープ', 'シャープ感'], ['素晴らしい解像度', '素晴らしい解像感'], ['塗りつぶされてる'], ['堅牢性', '堅牢感'], ['質実剛健', '頑丈'], ['防水', '防水性能', '防滴'], ['防塵'], ['キャッシュバック'], ['キャンペーン'], ['サブ機'], ['XQDカード'], ['軽快に', '軽快'], ['統一感', '統一'], ['透明感'], ['コントロールダイヤル'], ['ボタンでの操作'], ['タッチパネル操作'], ['構図が決められる'], ['ブラックアウト'], ['タッチシャッター'], ['シャッターショック'], ['フォーサーズ', 'マイクロフォーサーズ'], ['かゆいところに手が届く'], ['％表示'], ['％表示でない'], ['つるつる', 'ツルツル'], ['アナログ'], ['ユーザーフレンドリー']]\n"
     ]
    }
   ],
   "source": [
    "df1 = pd.read_excel(\"new評価ワード.xlsx\", sheet_name=0)\n",
    "df1.to_csv(\"new評価ワード.csv\", index=False, header=None, encoding='utf_8_sig')\n",
    "with open(\"new評価ワード.csv\", encoding='utf_8_sig') as fp:\n",
    "    one_lst = []\n",
    "    reader = csv.reader(fp)\n",
    "    for row in reader:\n",
    "        two_lst = []\n",
    "        for item in row:\n",
    "             if item != '':#空白を削除\n",
    "                two_lst.append(item)\n",
    "        one_lst.append(two_lst)\n",
    "        #print(two_lst)\n",
    "    print(one_lst)"
   ]
  },
  {
   "cell_type": "code",
   "execution_count": null,
   "metadata": {},
   "outputs": [],
   "source": []
  },
  {
   "cell_type": "code",
   "execution_count": null,
   "metadata": {},
   "outputs": [],
   "source": []
  },
  {
   "cell_type": "code",
   "execution_count": null,
   "metadata": {},
   "outputs": [],
   "source": []
  },
  {
   "cell_type": "code",
   "execution_count": null,
   "metadata": {},
   "outputs": [],
   "source": []
  },
  {
   "cell_type": "code",
   "execution_count": null,
   "metadata": {},
   "outputs": [],
   "source": []
  },
  {
   "cell_type": "code",
   "execution_count": null,
   "metadata": {},
   "outputs": [],
   "source": []
  },
  {
   "cell_type": "code",
   "execution_count": null,
   "metadata": {},
   "outputs": [],
   "source": []
  },
  {
   "cell_type": "code",
   "execution_count": null,
   "metadata": {},
   "outputs": [],
   "source": []
  },
  {
   "cell_type": "code",
   "execution_count": null,
   "metadata": {},
   "outputs": [],
   "source": []
  },
  {
   "cell_type": "code",
   "execution_count": null,
   "metadata": {},
   "outputs": [],
   "source": []
  },
  {
   "cell_type": "code",
   "execution_count": null,
   "metadata": {},
   "outputs": [],
   "source": []
  },
  {
   "cell_type": "code",
   "execution_count": null,
   "metadata": {},
   "outputs": [],
   "source": []
  },
  {
   "cell_type": "code",
   "execution_count": null,
   "metadata": {},
   "outputs": [],
   "source": []
  },
  {
   "cell_type": "code",
   "execution_count": null,
   "metadata": {},
   "outputs": [],
   "source": []
  },
  {
   "cell_type": "code",
   "execution_count": null,
   "metadata": {},
   "outputs": [],
   "source": []
  }
 ],
 "metadata": {
  "kernelspec": {
   "display_name": "Python 3",
   "language": "python",
   "name": "python3"
  },
  "language_info": {
   "codemirror_mode": {
    "name": "ipython",
    "version": 3
   },
   "file_extension": ".py",
   "mimetype": "text/x-python",
   "name": "python",
   "nbconvert_exporter": "python",
   "pygments_lexer": "ipython3",
   "version": "3.7.1"
  }
 },
 "nbformat": 4,
 "nbformat_minor": 2
}
